{
 "cells": [
  {
   "cell_type": "markdown",
   "metadata": {},
   "source": [
    "# Exemplary analysis of the PBMC3K single-cell RNA dataset"
   ]
  },
  {
   "cell_type": "code",
   "execution_count": null,
   "metadata": {},
   "outputs": [],
   "source": [
    "import csv\n",
    "import os\n",
    "import math\n",
    "import warnings\n",
    "\n",
    "import matplotlib.pyplot as plt\n",
    "import numpy as np\n",
    "import pandas as pd\n",
    "\n",
    "import mygene\n",
    "\n",
    "from anndata import AnnData\n",
    "import scanpy as sc\n",
    "\n",
    "# keggtool imports\n",
    "from keggtools import (\n",
    "    Pathway,\n",
    "    Enrichment,\n",
    "    EnrichmentResult,\n",
    "    Resolver,\n",
    "    Storage,\n",
    "    Renderer,\n",
    "    IMMUNE_SYSTEM_PATHWAYS,\n",
    ")\n",
    "\n",
    "# Used folders\n",
    "rawdata_dir = os.path.join(os.getcwd(), \"rawdata\")\n",
    "figure_dir = os.path.join(os.getcwd(), \"figures\")\n",
    "\n",
    "# Global settings\n",
    "sc.settings.verbosity = 0\n",
    "sc.logging.print_header()\n",
    "sc.settings.set_figure_params(dpi=80, facecolor=\"white\")\n",
    "\n",
    "# Ignore all warnings\n",
    "warnings.filterwarnings(\"ignore\", category=UserWarning)"
   ]
  },
  {
   "cell_type": "markdown",
   "metadata": {},
   "source": [
    "## Analysis of PBMC3K\n",
    "\n",
    "Analysis base on `scanpy` tutorial ([https://scanpy-tutorials.readthedocs.io/en/latest/pbmc3k.html](https://scanpy-tutorials.readthedocs.io/en/latest/pbmc3k.html)).\n"
   ]
  },
  {
   "cell_type": "markdown",
   "metadata": {},
   "source": [
    "### Preprocessing of dataset"
   ]
  },
  {
   "cell_type": "code",
   "execution_count": null,
   "metadata": {},
   "outputs": [],
   "source": [
    "# Load count data\n",
    "adata: AnnData = sc.read_10x_mtx(rawdata_dir, var_names=\"gene_symbols\", cache=False)\n",
    "adata.var_names_make_unique()"
   ]
  },
  {
   "cell_type": "code",
   "execution_count": null,
   "metadata": {},
   "outputs": [],
   "source": [
    "# Filter genes and cells\n",
    "sc.pp.filter_cells(adata, min_genes=200)\n",
    "sc.pp.filter_genes(adata, min_cells=3)"
   ]
  },
  {
   "cell_type": "code",
   "execution_count": null,
   "metadata": {},
   "outputs": [],
   "source": [
    "# Calculate percentage of mitochodrial genes in each cell\n",
    "adata.var[\"mt\"] = adata.var_names.str.startswith(\"MT-\")\n",
    "sc.pp.calculate_qc_metrics(adata, qc_vars=[\"mt\"], percent_top=None, log1p=False, inplace=True)"
   ]
  },
  {
   "cell_type": "code",
   "execution_count": null,
   "metadata": {},
   "outputs": [],
   "source": [
    "# Plot QC parameter\n",
    "sc.pl.violin(adata, [\"n_genes_by_counts\", \"total_counts\", \"pct_counts_mt\"], jitter=0.4, multi_panel=True)"
   ]
  },
  {
   "cell_type": "code",
   "execution_count": null,
   "metadata": {},
   "outputs": [],
   "source": [
    "# Filter for QC parameter\n",
    "adata = adata[adata.obs[\"n_genes_by_counts\"] < 2500, :]\n",
    "adata = adata[adata.obs[\"pct_counts_mt\"] < 5, :]"
   ]
  },
  {
   "cell_type": "code",
   "execution_count": null,
   "metadata": {},
   "outputs": [],
   "source": [
    "# Normalize counts\n",
    "sc.pp.normalize_total(adata, target_sum=1e4)\n",
    "sc.pp.log1p(adata)"
   ]
  },
  {
   "cell_type": "code",
   "execution_count": null,
   "metadata": {},
   "outputs": [],
   "source": [
    "# Isolate highly variable genes\n",
    "sc.pp.highly_variable_genes(adata, min_mean=0.0125, max_mean=3, min_disp=0.5)\n",
    "adata.raw = adata\n",
    "adata = adata[:, adata.var[\"highly_variable\"]]"
   ]
  },
  {
   "cell_type": "code",
   "execution_count": null,
   "metadata": {},
   "outputs": [],
   "source": [
    "# Regress out counts and mitochondrial genes and scale dataset\n",
    "sc.pp.regress_out(adata, [\"total_counts\", \"pct_counts_mt\"])\n",
    "sc.pp.scale(adata, max_value=10)"
   ]
  },
  {
   "cell_type": "markdown",
   "metadata": {},
   "source": [
    "### PCA analysis and clustering"
   ]
  },
  {
   "cell_type": "code",
   "execution_count": null,
   "metadata": {},
   "outputs": [],
   "source": [
    "sc.tl.pca(adata, svd_solver=\"arpack\")\n",
    "sc.pp.neighbors(adata, n_neighbors=10, n_pcs=40)\n",
    "sc.tl.umap(adata)\n",
    "sc.tl.leiden(adata, flavor=\"igraph\", n_iterations=2)"
   ]
  },
  {
   "cell_type": "code",
   "execution_count": null,
   "metadata": {},
   "outputs": [],
   "source": [
    "# TODO: plot marker genes of cluster\n",
    "sc.pl.umap(adata, color=[\"CST3\", \"NKG7\"])"
   ]
  },
  {
   "cell_type": "code",
   "execution_count": null,
   "metadata": {},
   "outputs": [],
   "source": [
    "sc.pl.violin(adata, [\"CST3\", \"NKG7\", \"PPBP\"], groupby=\"leiden\", rotation=90.0)"
   ]
  },
  {
   "cell_type": "code",
   "execution_count": null,
   "metadata": {},
   "outputs": [],
   "source": [
    "# Rename leiden clusters\n",
    "new_cluster_names: list[str] = [\n",
    "    \"CD4+ T-cells\",\n",
    "    \"CD14+ Monocytes\",\n",
    "    \"B-cells\",\n",
    "    \"CD8+ T-cells\",\n",
    "    \"NK cells\",\n",
    "    \"FCGR3A+ Monocytes\",\n",
    "    \"Dendritic cells\",\n",
    "    \"Megakaryocytes\",\n",
    "]\n",
    "adata.rename_categories(\"leiden\", new_cluster_names)"
   ]
  },
  {
   "cell_type": "code",
   "execution_count": null,
   "metadata": {},
   "outputs": [],
   "source": [
    "# Plot and save UMAP\n",
    "fig, ax = plt.subplots(1, 1, figsize=(10, 8))\n",
    "ax.set_aspect(\"equal\", adjustable=\"box\")\n",
    "\n",
    "sc.pl.umap(adata, color=\"leiden\", legend_loc=\"right margin\", title=\"\", frameon=True, ax=ax, show=False)\n",
    "\n",
    "fig.tight_layout(pad=3.0)\n",
    "fig.savefig(os.path.join(figure_dir, \"figure2.png\"))"
   ]
  },
  {
   "cell_type": "markdown",
   "metadata": {},
   "source": [
    "### Differential analysis results to pandas dataframe"
   ]
  },
  {
   "cell_type": "code",
   "execution_count": null,
   "metadata": {},
   "outputs": [],
   "source": [
    "sc.tl.rank_genes_groups(adata, \"leiden\", method=\"wilcoxon\", n_genes=100)"
   ]
  },
  {
   "cell_type": "code",
   "execution_count": null,
   "metadata": {},
   "outputs": [],
   "source": [
    "# Export diff exp data\n",
    "diffexp_df = sc.get.rank_genes_groups_df(adata, group=\"NK cells\", pval_cutoff=0.05)\n",
    "diffexp_df.head()"
   ]
  },
  {
   "cell_type": "markdown",
   "metadata": {},
   "source": [
    "### Perform KEGGTOOLS enrichment analysis"
   ]
  },
  {
   "cell_type": "code",
   "execution_count": null,
   "metadata": {},
   "outputs": [],
   "source": [
    "organism_id: str = \"hsa\""
   ]
  },
  {
   "cell_type": "code",
   "execution_count": null,
   "metadata": {},
   "outputs": [],
   "source": [
    "from keggtools.utils import merge_entrez_geneid"
   ]
  },
  {
   "cell_type": "code",
   "execution_count": null,
   "metadata": {},
   "outputs": [],
   "source": [
    "diffexp_df = merge_entrez_geneid(diffexp_df)\n",
    "diffexp_df.head()"
   ]
  },
  {
   "cell_type": "code",
   "execution_count": null,
   "metadata": {},
   "outputs": [],
   "source": [
    "# Init resolver instance\n",
    "resolver: Resolver = Resolver()\n",
    "pathway_list: list[Pathway] = []\n",
    "\n",
    "# Download all immune system pathways\n",
    "for number, _ in IMMUNE_SYSTEM_PATHWAYS.items():\n",
    "    pathway_list.append(resolver.get_pathway(organism=organism_id, code=number))"
   ]
  },
  {
   "cell_type": "code",
   "execution_count": null,
   "metadata": {},
   "outputs": [],
   "source": [
    "# Init enrichment from list of immune system pathways\n",
    "analysis: Enrichment = Enrichment(pathways=pathway_list)\n",
    "analysis_result: list[EnrichmentResult] = analysis.run_analysis(gene_list=list(diffexp_df[\"entrez\"]))\n",
    "result_df: pd.DataFrame = analysis.to_dataframe()\n",
    "\n",
    "# Filter out pathways with no genes found\n",
    "result_df = result_df[result_df[\"study_count\"] > 0]\n",
    "\n",
    "# Print out result\n",
    "result_df.head()"
   ]
  },
  {
   "cell_type": "markdown",
   "metadata": {},
   "source": [
    "### Plot results of enrichment analysis"
   ]
  },
  {
   "cell_type": "code",
   "execution_count": null,
   "metadata": {},
   "outputs": [],
   "source": [
    "plt.figure(figsize=(8, 5), dpi=300)\n",
    "scatter = plt.scatter(\n",
    "    x=result_df[\"study_count\"] / result_df[\"pathway_genes\"] * 100,\n",
    "    y=result_df[\"pathway_title\"],\n",
    "    c=[-math.log10(x) for x in result_df[\"pvalue\"]],\n",
    "    cmap=\"coolwarm\",\n",
    ")\n",
    "\n",
    "cbar = plt.colorbar()\n",
    "cbar.set_label(\"- log10(p value)\")\n",
    "\n",
    "plt.grid(visible=None)\n",
    "plt.tight_layout()\n",
    "plt.savefig(os.path.join(figure_dir, \"figure4.png\"), bbox_inches=\"tight\")\n",
    "plt.show()"
   ]
  },
  {
   "cell_type": "markdown",
   "metadata": {},
   "source": [
    "### Plot pathway\n",
    "\n",
    "* \"Antigen processing and presentation\" (hsa:04612) show a significant p value"
   ]
  },
  {
   "cell_type": "code",
   "execution_count": null,
   "metadata": {},
   "outputs": [],
   "source": [
    "pathway: Pathway = resolver.get_pathway(organism=organism_id, code=\"04612\")"
   ]
  },
  {
   "cell_type": "code",
   "execution_count": null,
   "metadata": {},
   "outputs": [],
   "source": [
    "# diffexp_df[[\"entrez\"]] = diffexp_df[[\"entrez\"]].astype(int)\n",
    "overlay: dict = dict(zip(list(diffexp_df[\"entrez\"]), list(diffexp_df[\"logfoldchanges\"]), strict=True))"
   ]
  },
  {
   "cell_type": "code",
   "execution_count": null,
   "metadata": {},
   "outputs": [],
   "source": [
    "renderer: Renderer = Renderer(kegg_pathway=pathway, gene_dict=overlay, cache_or_resolver=resolver.storage)\n",
    "renderer.render(display_unlabeled_genes=True)"
   ]
  },
  {
   "cell_type": "code",
   "execution_count": null,
   "metadata": {},
   "outputs": [],
   "source": [
    "# Save dot string to file\n",
    "with open(os.path.join(figure_dir, \"figure5.dot\"), \"w\") as file_obj:\n",
    "    file_obj.write(renderer.to_string())\n",
    "\n",
    "# Save binary data to file\n",
    "renderer.to_file(filename=os.path.join(figure_dir, \"figure5.png\"), extension=\"png\")"
   ]
  },
  {
   "cell_type": "code",
   "execution_count": null,
   "metadata": {},
   "outputs": [],
   "source": [
    "# Display image\n",
    "from IPython.display import Image, display\n",
    "\n",
    "img: Image = Image(os.path.join(figure_dir, \"figure5.png\"))\n",
    "display(img)"
   ]
  }
 ],
 "metadata": {
  "kernelspec": {
   "display_name": "venv",
   "language": "python",
   "name": "python3"
  },
  "language_info": {
   "codemirror_mode": {
    "name": "ipython",
    "version": 3
   },
   "file_extension": ".py",
   "mimetype": "text/x-python",
   "name": "python",
   "nbconvert_exporter": "python",
   "pygments_lexer": "ipython3",
   "version": "3.10.16"
  }
 },
 "nbformat": 4,
 "nbformat_minor": 4
}
