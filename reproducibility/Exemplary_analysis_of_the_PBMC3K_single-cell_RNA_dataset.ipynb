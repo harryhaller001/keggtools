{
 "cells": [
  {
   "cell_type": "markdown",
   "metadata": {},
   "source": [
    "# Exemplary analysis of the PBMC3K single-cell RNA dataset"
   ]
  },
  {
   "cell_type": "code",
   "execution_count": null,
   "metadata": {},
   "outputs": [],
   "source": [
    "from typing import Optional, List\n",
    "import csv\n",
    "import os\n",
    "import math\n",
    "import warnings\n",
    "\n",
    "import matplotlib.pyplot as plt\n",
    "import numpy as np\n",
    "import pandas as pd\n",
    "\n",
    "import mygene\n",
    "\n",
    "from anndata import AnnData\n",
    "import scanpy as sc\n",
    "from numba import NumbaWarning\n",
    "\n",
    "# keggtool imports\n",
    "from keggtools import (\n",
    "    Pathway,\n",
    "    Enrichment,\n",
    "    EnrichmentResult,\n",
    "    Resolver,\n",
    "    Storage,\n",
    "    Renderer,\n",
    "    IMMUNE_SYSTEM_PATHWAYS,\n",
    ")\n",
    "\n",
    "# Used folders\n",
    "rawdata_dir = os.path.join(os.getcwd(), \"rawdata\")\n",
    "figure_dir = os.path.join(os.getcwd(), \"figures\")\n",
    "\n",
    "# Global settings\n",
    "sc.settings.verbosity = 0\n",
    "sc.logging.print_header()\n",
    "sc.settings.set_figure_params(dpi=80, facecolor=\"white\")\n",
    "\n",
    "# Ignore all warnings\n",
    "warnings.filterwarnings(\"ignore\", category=UserWarning)\n",
    "warnings.filterwarnings(\"ignore\", category=NumbaWarning)"
   ]
  },
  {
   "cell_type": "markdown",
   "metadata": {},
   "source": [
    "## Analysis of PBMC3K\n",
    "\n",
    "Analysis base on `scanpy` tutorial ([https://scanpy-tutorials.readthedocs.io/en/latest/pbmc3k.html](https://scanpy-tutorials.readthedocs.io/en/latest/pbmc3k.html)).\n"
   ]
  },
  {
   "cell_type": "markdown",
   "metadata": {},
   "source": [
    "### Preprocessing of dataset"
   ]
  },
  {
   "cell_type": "code",
   "execution_count": null,
   "metadata": {},
   "outputs": [],
   "source": [
    "# Load count data\n",
    "adata: AnnData = sc.read_10x_mtx(rawdata_dir, var_names=\"gene_symbols\", cache=False)\n",
    "adata.var_names_make_unique()"
   ]
  },
  {
   "cell_type": "code",
   "execution_count": null,
   "metadata": {},
   "outputs": [],
   "source": [
    "# Filter genes and cells\n",
    "sc.pp.filter_cells(adata, min_genes=200)\n",
    "sc.pp.filter_genes(adata, min_cells=3)"
   ]
  },
  {
   "cell_type": "code",
   "execution_count": null,
   "metadata": {},
   "outputs": [],
   "source": [
    "# Calculate percentage of mitochodrial genes in each cell\n",
    "adata.var[\"mt\"] = adata.var_names.str.startswith(\"MT-\")\n",
    "sc.pp.calculate_qc_metrics(adata, qc_vars=[\"mt\"], percent_top=None, log1p=False, inplace=True)"
   ]
  },
  {
   "cell_type": "code",
   "execution_count": null,
   "metadata": {},
   "outputs": [],
   "source": [
    "# Plot QC parameter\n",
    "sc.pl.violin(adata, [\"n_genes_by_counts\", \"total_counts\", \"pct_counts_mt\"], jitter=0.4, multi_panel=True)"
   ]
  },
  {
   "cell_type": "code",
   "execution_count": null,
   "metadata": {},
   "outputs": [],
   "source": [
    "# Filter for QC parameter\n",
    "adata = adata[adata.obs[\"n_genes_by_counts\"] < 2500, :]\n",
    "adata = adata[adata.obs[\"pct_counts_mt\"] < 5, :]"
   ]
  },
  {
   "cell_type": "code",
   "execution_count": null,
   "metadata": {},
   "outputs": [],
   "source": [
    "# Normalize counts\n",
    "sc.pp.normalize_total(adata, target_sum=1e4)\n",
    "sc.pp.log1p(adata)"
   ]
  },
  {
   "cell_type": "code",
   "execution_count": null,
   "metadata": {},
   "outputs": [],
   "source": [
    "# Isolate highly variable genes\n",
    "sc.pp.highly_variable_genes(adata, min_mean=0.0125, max_mean=3, min_disp=0.5)\n",
    "adata.raw = adata\n",
    "adata = adata[:, adata.var[\"highly_variable\"]]"
   ]
  },
  {
   "cell_type": "code",
   "execution_count": null,
   "metadata": {},
   "outputs": [],
   "source": [
    "# Regress out counts and mitochondrial genes and scale dataset\n",
    "sc.pp.regress_out(adata, [\"total_counts\", \"pct_counts_mt\"])\n",
    "sc.pp.scale(adata, max_value=10)"
   ]
  },
  {
   "cell_type": "markdown",
   "metadata": {},
   "source": [
    "### PCA analysis and clustering"
   ]
  },
  {
   "cell_type": "code",
   "execution_count": null,
   "metadata": {},
   "outputs": [],
   "source": [
    "sc.tl.pca(adata, svd_solver=\"arpack\")\n",
    "sc.pp.neighbors(adata, n_neighbors=10, n_pcs=40)\n",
    "sc.tl.umap(adata)\n",
    "sc.tl.leiden(adata)"
   ]
  },
  {
   "cell_type": "code",
   "execution_count": null,
   "metadata": {},
   "outputs": [],
   "source": [
    "# TODO: plot marker genes of cluster\n",
    "sc.pl.umap(adata, color=[\"CST3\", \"NKG7\"])"
   ]
  },
  {
   "cell_type": "code",
   "execution_count": null,
   "metadata": {},
   "outputs": [],
   "source": [
    "sc.pl.violin(adata, [\"CST3\", \"NKG7\", \"PPBP\"], groupby=\"leiden\", rotation=90.0)"
   ]
  },
  {
   "cell_type": "code",
   "execution_count": null,
   "metadata": {},
   "outputs": [],
   "source": [
    "# Rename leiden clusters\n",
    "new_cluster_names: List[str] = [\n",
    "    \"CD4+ T-cells\",\n",
    "    \"CD14+ Monocytes\",\n",
    "    \"B-cells\",\n",
    "    \"CD8+ T-cells\",\n",
    "    \"NK cells\",\n",
    "    \"FCGR3A+ Monocytes\",\n",
    "    \"Dendritic cells\",\n",
    "    \"Megakaryocytes\",\n",
    "]\n",
    "adata.rename_categories(\"leiden\", new_cluster_names)"
   ]
  },
  {
   "cell_type": "code",
   "execution_count": null,
   "metadata": {},
   "outputs": [],
   "source": [
    "# Plot and save UMAP\n",
    "fig, ax = plt.subplots(1, 1, figsize=(10, 8))\n",
    "ax.set_aspect(\"equal\", adjustable=\"box\")\n",
    "\n",
    "sc.pl.umap(adata, color=\"leiden\", legend_loc=\"right margin\", title=\"\", frameon=True, ax=ax, show=False)\n",
    "\n",
    "fig.tight_layout(pad=3.0)\n",
    "fig.savefig(os.path.join(figure_dir, \"figure2.png\"))"
   ]
  },
  {
   "cell_type": "markdown",
   "metadata": {},
   "source": [
    "### Differential analysis results to pandas dataframe"
   ]
  },
  {
   "cell_type": "code",
   "execution_count": null,
   "metadata": {},
   "outputs": [],
   "source": [
    "sc.tl.rank_genes_groups(adata, \"leiden\", method=\"wilcoxon\", n_genes=100)"
   ]
  },
  {
   "cell_type": "code",
   "execution_count": null,
   "metadata": {},
   "outputs": [],
   "source": [
    "# Print out marker genes per cluster\n",
    "pd.DataFrame(adata.uns[\"rank_genes_groups\"][\"names\"]).head(5)"
   ]
  },
  {
   "cell_type": "code",
   "execution_count": null,
   "metadata": {},
   "outputs": [],
   "source": [
    "def export_uns_data(\n",
    "    adata_obj: AnnData,\n",
    "    descriptor: Optional[str] = \"rank_genes_groups\",\n",
    "    extract_cols=[\"names\", \"pvals\", \"pvals_adj\", \"logfoldchanges\"],\n",
    ") -> pd.DataFrame:\n",
    "    \"\"\"\n",
    "    Helper function to export marker gene data from AnnData uns to pandas dataframe.\n",
    "    \"\"\"\n",
    "\n",
    "    n_clusters = len(adata_obj.uns[descriptor][\"names\"][0])\n",
    "    n_clusters\n",
    "\n",
    "    data = {\"cluster\": []}\n",
    "    for col in extract_cols:\n",
    "        data[col] = []\n",
    "\n",
    "    results_df = pd.DataFrame(data)\n",
    "\n",
    "    items_per_cluster = len(np.array([list(i) for i in np.array(adata_obj.uns[descriptor][extract_cols[0]])])[:, 0])\n",
    "\n",
    "    for cluster in range(0, n_clusters):\n",
    "        data = {\"cluster\": []}\n",
    "        for col in extract_cols:\n",
    "            data[col] = []\n",
    "\n",
    "        df = pd.DataFrame(data)\n",
    "\n",
    "        df[\"cluster\"] = pd.array([cluster] * items_per_cluster, dtype=\"Int32\")\n",
    "\n",
    "        for col in extract_cols:\n",
    "            cluster_vars = np.array([list(i) for i in np.array(adata_obj.uns[descriptor][col])])[:, cluster]\n",
    "            df[col] = cluster_vars\n",
    "\n",
    "        results_df = results_df.append(df)\n",
    "\n",
    "    return results_df"
   ]
  },
  {
   "cell_type": "code",
   "execution_count": null,
   "metadata": {},
   "outputs": [],
   "source": [
    "# Export diff exp data\n",
    "diffexp_df = export_uns_data(adata)\n",
    "diffexp_df.head()"
   ]
  },
  {
   "cell_type": "markdown",
   "metadata": {},
   "source": [
    "### Perform KEGGTOOLS enrichment analysis"
   ]
  },
  {
   "cell_type": "code",
   "execution_count": null,
   "metadata": {},
   "outputs": [],
   "source": [
    "organism_id: str = \"hsa\""
   ]
  },
  {
   "cell_type": "code",
   "execution_count": null,
   "metadata": {},
   "outputs": [],
   "source": [
    "# Analysed Cluster 4 (NK cells)\n",
    "cluster: int = 4\n",
    "diffexp_df = diffexp_df[diffexp_df[\"cluster\"] == cluster]\n",
    "diffexp_df.head()"
   ]
  },
  {
   "cell_type": "markdown",
   "metadata": {},
   "source": [
    "### Convert to list of entez ids using mygene"
   ]
  },
  {
   "cell_type": "code",
   "execution_count": null,
   "metadata": {},
   "outputs": [],
   "source": [
    "# Resolve list of gene symbols to list of entrez gene ids\n",
    "\n",
    "from warnings import warn\n",
    "import mygene\n",
    "\n",
    "mygene_info = mygene.MyGeneInfo()\n",
    "\n",
    "query_result = mygene_info.querymany(list(diffexp_df[\"names\"]), scopes=\"symbol\", species=\"human\")\n",
    "\n",
    "entrz_gene_list: List[str] = []\n",
    "not_found_gene_list: List[str] = []\n",
    "\n",
    "for item in query_result:\n",
    "    if \"entrezgene\" in item:\n",
    "        # Append entrez id to list\n",
    "        entrz_gene_list.append(str(item[\"entrezgene\"]))\n",
    "\n",
    "        # Add entrez id to dataframe\n",
    "        diffexp_df.loc[diffexp_df[\"names\"] == item[\"query\"], \"entrez\"] = str(item[\"entrezgene\"])\n",
    "    else:\n",
    "        # Append not found genes to list\n",
    "        not_found_gene_list.append(item[\"query\"])\n",
    "        diffexp_df.loc[diffexp_df[\"names\"] == item[\"query\"], \"entrez\"] = 0\n",
    "\n",
    "if len(not_found_gene_list) > 0:\n",
    "    warn(f\"In total {len(not_found_gene_list)} were not found in mygene query.\", category=UserWarning)"
   ]
  },
  {
   "cell_type": "code",
   "execution_count": null,
   "metadata": {},
   "outputs": [],
   "source": [
    "# Init resolver instance\n",
    "resolver: Resolver = Resolver()\n",
    "pathway_list: List[Pathway] = []\n",
    "\n",
    "# Download all immune system pathways\n",
    "for number, _ in IMMUNE_SYSTEM_PATHWAYS.items():\n",
    "    pathway_list.append(resolver.get_pathway(organism=organism_id, code=number))"
   ]
  },
  {
   "cell_type": "code",
   "execution_count": null,
   "metadata": {},
   "outputs": [],
   "source": [
    "# Init enrichment from list of immune system pathways\n",
    "analysis: Enrichment = Enrichment(pathways=pathway_list)\n",
    "analysis_result: List[EnrichmentResult] = analysis.run_analysis(gene_list=list(diffexp_df[\"entrez\"]))\n",
    "result_df: pd.DataFrame = analysis.to_dataframe()\n",
    "\n",
    "# Filter out pathways with no genes found\n",
    "result_df = result_df[result_df[\"study_count\"] > 0]\n",
    "\n",
    "# Print out result\n",
    "result_df.head()"
   ]
  },
  {
   "cell_type": "markdown",
   "metadata": {},
   "source": [
    "### Plot results of enrichment analysis"
   ]
  },
  {
   "cell_type": "code",
   "execution_count": null,
   "metadata": {},
   "outputs": [],
   "source": [
    "import matplotlib.pyplot as plt\n",
    "import math\n",
    "\n",
    "plt.figure(figsize=(8, 5), dpi=300)\n",
    "scatter = plt.scatter(\n",
    "    x=result_df[\"study_count\"] / result_df[\"pathway_genes\"] * 100,\n",
    "    y=result_df[\"pathway_title\"],\n",
    "    c=[-math.log10(x) for x in result_df[\"pvalue\"]],\n",
    "    cmap=\"coolwarm\",\n",
    ")\n",
    "\n",
    "cbar = plt.colorbar()\n",
    "cbar.set_label(\"- log10(p value)\")\n",
    "\n",
    "plt.grid(b=None)\n",
    "plt.tight_layout()\n",
    "plt.savefig(os.path.join(figure_dir, \"figure4.png\"), bbox_inches=\"tight\")\n",
    "plt.show()"
   ]
  },
  {
   "cell_type": "markdown",
   "metadata": {},
   "source": [
    "### Plot pathway\n",
    "\n",
    "* \"Antigen processing and presentation\" (hsa:04612) show a significant p value"
   ]
  },
  {
   "cell_type": "code",
   "execution_count": null,
   "metadata": {},
   "outputs": [],
   "source": [
    "pathway: Pathway = resolver.get_pathway(organism=organism_id, code=\"04612\")"
   ]
  },
  {
   "cell_type": "code",
   "execution_count": null,
   "metadata": {},
   "outputs": [],
   "source": [
    "# diffexp_df[[\"entrez\"]] = diffexp_df[[\"entrez\"]].astype(int)\n",
    "overlay: dict = dict(zip(list(diffexp_df[\"entrez\"]), list(diffexp_df[\"logfoldchanges\"])))"
   ]
  },
  {
   "cell_type": "code",
   "execution_count": null,
   "metadata": {},
   "outputs": [],
   "source": [
    "renderer: Renderer = Renderer(kegg_pathway=pathway, gene_dict=overlay, cache_or_resolver=resolver.storage)\n",
    "renderer.render(display_unlabeled_genes=True)"
   ]
  },
  {
   "cell_type": "code",
   "execution_count": null,
   "metadata": {},
   "outputs": [],
   "source": [
    "# Save dot string to file\n",
    "with open(os.path.join(figure_dir, \"figure5.dot\"), \"w\") as file_obj:\n",
    "    file_obj.write(renderer.to_string())\n",
    "\n",
    "# Save binary data to file\n",
    "renderer.to_file(filename=os.path.join(figure_dir, \"figure5.png\"), extension=\"png\")"
   ]
  },
  {
   "cell_type": "code",
   "execution_count": null,
   "metadata": {},
   "outputs": [],
   "source": [
    "# Display image\n",
    "from IPython.display import Image, display\n",
    "\n",
    "img: Image = Image(os.path.join(figure_dir, \"figure5.png\"))\n",
    "display(img)"
   ]
  }
 ],
 "metadata": {
  "kernelspec": {
   "display_name": "Python 3.6.9 ('venv': venv)",
   "language": "python",
   "name": "python3"
  },
  "language_info": {
   "codemirror_mode": {
    "name": "ipython",
    "version": 3
   },
   "file_extension": ".py",
   "mimetype": "text/x-python",
   "name": "python",
   "nbconvert_exporter": "python",
   "pygments_lexer": "ipython3",
   "version": "3.6.9"
  },
  "vscode": {
   "interpreter": {
    "hash": "49d7be14b8e5c96d15d3b5e936e875a7d97d9e53e95b73ff12ebd698c5541f22"
   }
  }
 },
 "nbformat": 4,
 "nbformat_minor": 4
}
